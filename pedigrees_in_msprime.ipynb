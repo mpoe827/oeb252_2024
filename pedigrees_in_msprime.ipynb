{
 "cells": [
  {
   "cell_type": "markdown",
   "metadata": {},
   "source": [
    "# Steps to build a pedigree and inject it in the simulation of the coalescence process of n genealogies\n",
    "\n",
    "1. First install a couple of modules in case they are not installed in your computer or working environment:"
   ]
  },
  {
   "cell_type": "code",
   "execution_count": null,
   "metadata": {},
   "outputs": [],
   "source": [
    "!python3 -m pip install networkx\n",
    "!python3 -m pip install pandas\n",
    "!python3 -m pip install matplotlib\n",
    "!python3 -m pip install msprime\n",
    "!python3 -m pip install tskit"
   ]
  },
  {
   "cell_type": "markdown",
   "metadata": {},
   "source": [
    "2. Import all required modules"
   ]
  },
  {
   "cell_type": "code",
   "execution_count": 1,
   "metadata": {},
   "outputs": [],
   "source": [
    "import io\n",
    "import tskit\n",
    "import msprime\n",
    "from IPython.display import SVG, display\n",
    "from matplotlib import pyplot as plt\n",
    "import networkx as nx\n",
    "import numpy as np\n",
    "import pandas as pd\n",
    "import random\n",
    "from itertools import chain"
   ]
  },
  {
   "cell_type": "markdown",
   "metadata": {},
   "source": [
    "3. Create 2 functions for building the pedigree and for visualizing it:\n",
    "3.1 Function to create or parse the pedigree:\n",
    "    Check that this function requires 3 parameters:\n",
    "    a. N: Integer of the size of the population\n",
    "    b. n: Integer of the size of the sample of interest at time zero.\n",
    "    c. t: Integer of that indicates the time in the past we want to trace back all samples in the pedigree.\n",
    "    d. big_family_size: number of offsprings a big family will have."
   ]
  },
  {
   "cell_type": "code",
   "execution_count": 2,
   "metadata": {},
   "outputs": [],
   "source": [
    "\n",
    "def build_random_pedigree(N, n, t, big_family_size):\n",
    "    \n",
    "    Pop_labels = range(N)\n",
    "    Sample_labels = range(n)\n",
    "    times = range(0, t)\n",
    "\n",
    "    pedigree_table = pd.DataFrame()\n",
    "\n",
    "    for time in times:\n",
    "        # Select members of the big family\n",
    "        time_t_sample_labels = [x + time * N for x in Pop_labels]\n",
    "        time_t_parent_labels = [x + (time + 1) * N for x in Pop_labels]\n",
    "        \n",
    "        big_family_members_in_time_t = np.random.choice(time_t_sample_labels, big_family_size, replace=False)\n",
    "        \n",
    "        # Select members not in the big family\n",
    "        if time == 0:\n",
    "            other_inds_in_time_t = list(set(time_t_sample_labels) - set(big_family_members_in_time_t))\n",
    "            other_inds_in_time_t = np.random.choice(other_inds_in_time_t, n - big_family_size, replace=False)\n",
    "        else:\n",
    "            other_inds_in_time_t = list(set(Sample_labels_for_next_t) - set(big_family_members_in_time_t))\n",
    "        \n",
    "        # Selecting the parents in time t\n",
    "        parents_of_bigfamily_in_time_t = np.random.choice(time_t_parent_labels, 2, replace=False)\n",
    "        \n",
    "        big_family_pedigree_df = pd.DataFrame({\n",
    "            'id': sorted(big_family_members_in_time_t),\n",
    "            'parent0': [parents_of_bigfamily_in_time_t[0]] * big_family_size,\n",
    "            'parent1': [parents_of_bigfamily_in_time_t[1]] * big_family_size,\n",
    "            'time': [time] * big_family_size,\n",
    "            'is_sample': [1 if time == 0 else 0] * big_family_size\n",
    "        })\n",
    "        \n",
    "        other_parents_in_time_t = list(set(time_t_parent_labels) - set(parents_of_bigfamily_in_time_t))\n",
    "        \n",
    "        temp_pedigree_df = pd.DataFrame({\n",
    "            'id': other_inds_in_time_t,\n",
    "            'parent0': np.random.choice(other_parents_in_time_t, len(other_inds_in_time_t)),\n",
    "            'parent1': np.random.choice(other_parents_in_time_t, len(other_inds_in_time_t)),\n",
    "            'time': [time] * len(other_inds_in_time_t),\n",
    "            'is_sample': [1 if time == 0 else 0] * len(other_inds_in_time_t)\n",
    "        })\n",
    "        \n",
    "        pedigree_table = pd.concat([pedigree_table, big_family_pedigree_df, temp_pedigree_df])\n",
    "        \n",
    "        Sample_labels_for_next_t = list(set(\n",
    "            big_family_pedigree_df['parent0'].tolist() +\n",
    "            big_family_pedigree_df['parent1'].tolist() +\n",
    "            temp_pedigree_df['parent0'].tolist() +\n",
    "            temp_pedigree_df['parent1'].tolist()\n",
    "        ))\n",
    "        \n",
    "        if time == times[-1]:\n",
    "            last_generation = pd.DataFrame({\n",
    "                'id': Sample_labels_for_next_t,\n",
    "                'parent0': ['.' for _ in Sample_labels_for_next_t],\n",
    "                'parent1': ['.' for _ in Sample_labels_for_next_t],\n",
    "                'time': [time + 1 for _ in Sample_labels_for_next_t],\n",
    "                'is_sample': [0 for _ in Sample_labels_for_next_t]\n",
    "            })\n",
    "            pedigree_table = pd.concat([pedigree_table, last_generation])\n",
    "\n",
    "    pedigree_table = pedigree_table.sort_values('id').reset_index(drop=True)\n",
    "\n",
    "    pedigree_table_string = \"# id parent0 parent1 time is_sample\\n\"\n",
    "    pedigree_table_string += pedigree_table.to_csv(sep='\\t', index=False, header=False)\n",
    "    \n",
    "    return pedigree_table_string"
   ]
  },
  {
   "cell_type": "markdown",
   "metadata": {},
   "source": [
    "3.2 Function to draw the pedigree:"
   ]
  },
  {
   "cell_type": "code",
   "execution_count": 3,
   "metadata": {},
   "outputs": [],
   "source": [
    "\n",
    "def draw_pedigree(ped_ts):\n",
    "\n",
    "    G = nx.DiGraph()\n",
    "    for ind in ped_ts.individuals():\n",
    "        time = ped_ts.node(ind.nodes[0]).time\n",
    "        pop = ped_ts.node(ind.nodes[0]).population\n",
    "        G.add_node(ind.id, time=time, population=pop)\n",
    "        for p in ind.parents:\n",
    "            if p != tskit.NULL:\n",
    "                G.add_edge(ind.id, p)\n",
    "    pos = nx.multipartite_layout(G, subset_key=\"time\", align=\"horizontal\")\n",
    "    colours = plt.rcParams['axes.prop_cycle'].by_key()['color']\n",
    "    node_colours = [colours[node_attr[\"population\"]] for node_attr in G.nodes.values()]\n",
    "    nx.draw_networkx(G, pos, with_labels=True, node_color=node_colours)\n",
    "    plt.show()"
   ]
  },
  {
   "cell_type": "markdown",
   "metadata": {},
   "source": [
    "Lets run an example on how to use this two functions:\n",
    "a. First create the pedigree:\n",
    "    For that we need to define the four inputs. To make a short demo let's define them as follow: "
   ]
  },
  {
   "cell_type": "code",
   "execution_count": null,
   "metadata": {},
   "outputs": [],
   "source": [
    "\n",
    "N = 10\n",
    "n = round(1 * N)\n",
    "t = round(2 * np.log2(N))\n",
    "big_family_size = 4\n"
   ]
  },
  {
   "cell_type": "markdown",
   "metadata": {},
   "source": [
    "This mean that we are going to follow the full population of 10 individuals for 7 generations and in each generation 4 individuals are siblings from the same father and mother.\n",
    "Other assumptions of the model are:\n",
    "    * The population is diploid monoecious (so no sex is defined).\n",
    "    * All samples in t_0 will have a value of 1 in the flag (column) is_sample, which mean they are going to be included in the simulation. For a future Implementation a parameter to randomly or manually define the samples to be included will be added.\n",
    "    * Individuals that don't belong to the big family may share the same parents as a function of the size of the population. If N is big and n is small respect to N, this won't happen.\n",
    "    * Individuals ar allowed to have multiple partners. If N is big and n is small respect to N, this won't happen or will be rare.\n",
    "Notice that the output of this function is a table stored as a string and that can be visualized using print().\n"
   ]
  },
  {
   "cell_type": "code",
   "execution_count": null,
   "metadata": {},
   "outputs": [],
   "source": [
    "pedigree_string = build_random_pedigree(N = N, n = n, t = t, big_family_size=big_family_size)\n",
    "print(pedigree_string)"
   ]
  },
  {
   "cell_type": "markdown",
   "metadata": {},
   "source": [
    "b. Parse the pedigree into msprime:"
   ]
  },
  {
   "cell_type": "code",
   "execution_count": null,
   "metadata": {},
   "outputs": [],
   "source": [
    "pedigree_table = msprime.parse_pedigree(io.StringIO(pedigree_string), sequence_length=1000)\n"
   ]
  },
  {
   "cell_type": "markdown",
   "metadata": {},
   "source": [
    "c. Draw the pedigree:"
   ]
  },
  {
   "cell_type": "code",
   "execution_count": null,
   "metadata": {},
   "outputs": [],
   "source": [
    "draw_pedigree(pedigree_table.tree_sequence())"
   ]
  },
  {
   "cell_type": "markdown",
   "metadata": {},
   "source": [
    "d. Now we can use this pedigree to create our simulation:\n",
    "   Notice that the .sim_ancestry method allows the following arguments:\n",
    "    * samples: Any | None = None,*,\n",
    "    * demography: Any | None = None,\n",
    "    * sequence_length: Any | None = None,\n",
    "    * discrete_genome: Any | None = None,\n",
    "    * recombination_rate: Any | None = None,\n",
    "    * gene_conversion_rate: Any | None = None,\n",
    "    * gene_conversion_tract_length: Any | None = None,\n",
    "    * population_size: Any | None = None,\n",
    "    * ploidy: Any | None = None,\n",
    "    * model: Any | None = None,\n",
    "    * initial_state: Any | None = None,\n",
    "    * start_time: Any | None = None,\n",
    "    * end_time: Any | None = None,\n",
    "    * record_migrations: Any | None = None,\n",
    "    * record_full_arg: Any | None = None,\n",
    "    * additional_nodes: Any | None = None,\n",
    "    * coalescing_segments_only: Any | None = None,\n",
    "    * num_labels: Any | None = None,\n",
    "    * random_seed: Any | None = None,\n",
    "    * num_replicates: Any | None = None,\n",
    "    * replicate_index: Any | None = None,\n",
    "    * record_provenance: Any | None = None\n",
    "\n",
    "As the number of samples and the length of the sequence have been defined in the previous step, these two argument are already included in the argument initial_state"
   ]
  },
  {
   "cell_type": "code",
   "execution_count": null,
   "metadata": {},
   "outputs": [],
   "source": [
    "ts = msprime.sim_ancestry(\n",
    "    initial_state=pedigree_table,\n",
    "    model='fixed_pedigree',\n",
    "    recombination_rate=0.0001,\n",
    "    random_seed=45,\n",
    " #   additional_nodes=(\n",
    "#         msprime.NodeType.RECOMBINANT |\n",
    "#         msprime.NodeType.PASS_THROUGH | \n",
    "#         msprime.NodeType.COMMON_ANCESTOR\n",
    "#         ),\n",
    "    coalescing_segments_only=False\n",
    ")"
   ]
  },
  {
   "cell_type": "code",
   "execution_count": null,
   "metadata": {},
   "outputs": [],
   "source": [
    "ts"
   ]
  },
  {
   "cell_type": "code",
   "execution_count": null,
   "metadata": {},
   "outputs": [],
   "source": [
    "SVG(ts.draw_svg())"
   ]
  },
  {
   "cell_type": "markdown",
   "metadata": {},
   "source": [
    "Let's try a bigger sample size"
   ]
  },
  {
   "cell_type": "code",
   "execution_count": 26,
   "metadata": {},
   "outputs": [],
   "source": [
    "N = 10000\n",
    "n = round(0.1 * N)\n",
    "t = round(2 * np.log2(N))\n",
    "big_family_size = 20\n",
    "seq_len = 1000\n",
    "\n",
    "pedigree_string = build_random_pedigree(N = N, n = n, t = t, big_family_size=big_family_size)\n",
    "pedigree_table = msprime.parse_pedigree(io.StringIO(pedigree_string), sequence_length=seq_len)\n",
    "\n",
    "ts = msprime.sim_ancestry(\n",
    "    initial_state=pedigree_table,\n",
    "    model='fixed_pedigree',\n",
    "    recombination_rate=0.0001,\n",
    "    random_seed=45,\n",
    " #   additional_nodes=(\n",
    "#         msprime.NodeType.RECOMBINANT |\n",
    "#         msprime.NodeType.PASS_THROUGH | \n",
    "#         msprime.NodeType.COMMON_ANCESTOR\n",
    "#         ),\n",
    "    coalescing_segments_only=False\n",
    ")"
   ]
  },
  {
   "cell_type": "code",
   "execution_count": null,
   "metadata": {},
   "outputs": [],
   "source": [
    "ts"
   ]
  },
  {
   "cell_type": "markdown",
   "metadata": {},
   "source": [
    "Sampling pairs and plotting lenghts of IBD segments in pairs"
   ]
  },
  {
   "cell_type": "code",
   "execution_count": null,
   "metadata": {},
   "outputs": [
    {
     "data": {
      "image/png": "[encoded data removed]",
      "text/plain": [
       "<Figure size 640x480 with 1 Axes>"
      ]
     },
     "metadata": {},
     "output_type": "display_data"
    }
   ],
   "source": [
    "#sample random pairs: what I am doing right now is choosing some subset of the n nodes and taking all pairs within this subset\n",
    "sample_size = 1000\n",
    "subset = random.sample(range(0,2*n-1), sample_size)\n",
    "\n",
    "#get ibd information for sampled pairs\n",
    "segments = ts.ibd_segments(within=subset, store_segments=True)\n",
    "\n",
    "\n",
    "#initialize list of segment lengths\n",
    "ibd_lengths = []\n",
    "\n",
    "#add segment lengths to list\n",
    "for pair in list(segments.keys()):\n",
    "    ibd_lengths.append(list(segments[pair].right-segments[pair].left))\n",
    "\n",
    "\n",
    "#flatten and convert to integer type\n",
    "ibd_lengths = list(chain(*ibd_lengths))\n",
    "ibd_lengths = np.array(ibd_lengths, dtype=int)\n",
    "\n",
    "#plot\n",
    "histogram = plt.hist(ibd_lengths, 100)\n",
    "plt.xlabel('IBD segment length')\n",
    "plt.ylabel('frequency')\n",
    "plt.show()"
   ]
  }
 ],
 "metadata": {
  "kernelspec": {
   "display_name": "msprime-env",
   "language": "python",
   "name": "python3"
  },
  "language_info": {
   "codemirror_mode": {
    "name": "ipython",
    "version": 3
   },
   "file_extension": ".py",
   "mimetype": "text/x-python",
   "name": "python",
   "nbconvert_exporter": "python",
   "pygments_lexer": "ipython3",
   "version": "3.13.0"
  }
 },
 "nbformat": 4,
 "nbformat_minor": 2
}
